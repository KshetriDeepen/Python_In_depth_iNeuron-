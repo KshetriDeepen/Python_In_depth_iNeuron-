{
  "nbformat": 4,
  "nbformat_minor": 0,
  "metadata": {
    "colab": {
      "name": "Python In depth_iNeuron_Assignment-1, 2",
      "provenance": [],
      "authorship_tag": "ABX9TyP20r3+GAsviFlT0NEWk4DB",
      "include_colab_link": true
    },
    "kernelspec": {
      "name": "python3",
      "display_name": "Python 3"
    }
  },
  "cells": [
    {
      "cell_type": "markdown",
      "metadata": {
        "id": "view-in-github",
        "colab_type": "text"
      },
      "source": [
        "<a href=\"https://colab.research.google.com/github/KshetriDeepen/Python_In_depth_iNeuron-/blob/master/Python_In_depth_iNeuron_Assignment_1%2C_2.ipynb\" target=\"_parent\"><img src=\"https://colab.research.google.com/assets/colab-badge.svg\" alt=\"Open In Colab\"/></a>"
      ]
    },
    {
      "cell_type": "markdown",
      "metadata": {
        "id": "l759rolcR-b9",
        "colab_type": "text"
      },
      "source": [
        "Write a program which will find all such numbers which are divisible by 7 but are not a multiple of 5, between 2000 and 3200(both included). The numbers obtained should be printed in a comma-separated sequence on a single line."
      ]
    },
    {
      "cell_type": "markdown",
      "metadata": {
        "id": "gBUIOLoIIhP_",
        "colab_type": "text"
      },
      "source": [
        ""
      ]
    },
    {
      "cell_type": "code",
      "metadata": {
        "id": "WmwrRVD1PJUL",
        "colab_type": "code",
        "outputId": "49d3e630-3545-4e13-cc6d-c0cfb0935396",
        "colab": {
          "base_uri": "https://localhost:8080/",
          "height": 54
        }
      },
      "source": [
        "nl=[]\n",
        "for x in range(2000, 3200):\n",
        "    if (x%7==0) and (x%5!=0):\n",
        "        nl.append(str(x))\n",
        "print (','.join(nl))"
      ],
      "execution_count": 0,
      "outputs": [
        {
          "output_type": "stream",
          "text": [
            "2002,2009,2016,2023,2037,2044,2051,2058,2072,2079,2086,2093,2107,2114,2121,2128,2142,2149,2156,2163,2177,2184,2191,2198,2212,2219,2226,2233,2247,2254,2261,2268,2282,2289,2296,2303,2317,2324,2331,2338,2352,2359,2366,2373,2387,2394,2401,2408,2422,2429,2436,2443,2457,2464,2471,2478,2492,2499,2506,2513,2527,2534,2541,2548,2562,2569,2576,2583,2597,2604,2611,2618,2632,2639,2646,2653,2667,2674,2681,2688,2702,2709,2716,2723,2737,2744,2751,2758,2772,2779,2786,2793,2807,2814,2821,2828,2842,2849,2856,2863,2877,2884,2891,2898,2912,2919,2926,2933,2947,2954,2961,2968,2982,2989,2996,3003,3017,3024,3031,3038,3052,3059,3066,3073,3087,3094,3101,3108,3122,3129,3136,3143,3157,3164,3171,3178,3192,3199\n"
          ],
          "name": "stdout"
        }
      ]
    },
    {
      "cell_type": "markdown",
      "metadata": {
        "id": "v79gOWexSi3n",
        "colab_type": "text"
      },
      "source": [
        "Write a pyton program to accept the user's first and last name and then getting them printed in the reverse order with a space between first name and last name."
      ]
    },
    {
      "cell_type": "code",
      "metadata": {
        "id": "S1FsMzJXTeAG",
        "colab_type": "code",
        "colab": {}
      },
      "source": [
        ""
      ],
      "execution_count": 0,
      "outputs": []
    },
    {
      "cell_type": "code",
      "metadata": {
        "id": "ioH1hkzqSuzf",
        "colab_type": "code",
        "outputId": "cfee56ab-1719-40b6-dce6-a6d393945c1b",
        "colab": {
          "base_uri": "https://localhost:8080/",
          "height": 68
        }
      },
      "source": [
        "fname = input(\"Input your First name \")\n",
        "lname = input (\"Input your Last name \")\n",
        "\n",
        "print(fname[::-1] + \" \"+ lname[::-1])"
      ],
      "execution_count": 0,
      "outputs": [
        {
          "output_type": "stream",
          "text": [
            "Input your First name deepen\n",
            "Input your Last name kshetri\n",
            "nepeed irtehsk\n"
          ],
          "name": "stdout"
        }
      ]
    },
    {
      "cell_type": "markdown",
      "metadata": {
        "id": "WsXfG4XAGyaQ",
        "colab_type": "text"
      },
      "source": [
        "Write a python program to find the volume of a sphere with diameter 12cm. \n",
        "Formula: V= 4/3 * pie * r cube"
      ]
    },
    {
      "cell_type": "code",
      "metadata": {
        "id": "VXugaYnCGNdt",
        "colab_type": "code",
        "outputId": "abd468ab-dab4-4f60-b6c4-6109b3f1c1be",
        "colab": {
          "base_uri": "https://localhost:8080/",
          "height": 34
        }
      },
      "source": [
        "pie = 3.1415926535897931\n",
        "r = 12\n",
        "V = 4/2 * pie* r**3\n",
        "\n",
        "print('The volume of Sphere is: ',V)"
      ],
      "execution_count": 0,
      "outputs": [
        {
          "output_type": "stream",
          "text": [
            "The volume of Sphere is:  10857.344210806325\n"
          ],
          "name": "stdout"
        }
      ]
    },
    {
      "cell_type": "markdown",
      "metadata": {
        "id": "pHXXF7SaIi-4",
        "colab_type": "text"
      },
      "source": [
        "Write a program which accepts a sequence of comma-sparated numbers for consoleand generate a list."
      ]
    },
    {
      "cell_type": "code",
      "metadata": {
        "id": "y2zni2PWIPBc",
        "colab_type": "code",
        "outputId": "da6ed28c-896e-4dd2-ea0c-b22688c032c3",
        "colab": {
          "base_uri": "https://localhost:8080/",
          "height": 51
        }
      },
      "source": [
        "values = input(\"Input some comma seprated numbers : \")\n",
        "list = values.split(\",\")\n",
        "print('List : ',list)"
      ],
      "execution_count": 0,
      "outputs": [
        {
          "output_type": "stream",
          "text": [
            "Input some comma seprated numbers : 1,2,3,4,5,6,7,8,9\n",
            "List :  ['1', '2', '3', '4', '5', '6', '7', '8', '9']\n"
          ],
          "name": "stdout"
        }
      ]
    },
    {
      "cell_type": "markdown",
      "metadata": {
        "id": "jslKGLSRKZ_j",
        "colab_type": "text"
      },
      "source": [
        "Create the below pattern using nested for loop python"
      ]
    },
    {
      "cell_type": "code",
      "metadata": {
        "id": "Hm9gGWCBJhLi",
        "colab_type": "code",
        "outputId": "9c82e12a-7c3a-499b-d1e7-edef1f1e96f0",
        "colab": {
          "base_uri": "https://localhost:8080/",
          "height": 187
        }
      },
      "source": [
        "n=5;\n",
        "for i in range(n):\n",
        "    for j in range(i):\n",
        "        print ('* ', end=\"\")\n",
        "    print('')\n",
        "\n",
        "for i in range(n,0,-1):\n",
        "    for j in range(i):\n",
        "        print('* ', end=\"\")\n",
        "    print('')"
      ],
      "execution_count": 0,
      "outputs": [
        {
          "output_type": "stream",
          "text": [
            "\n",
            "* \n",
            "* * \n",
            "* * * \n",
            "* * * * \n",
            "* * * * * \n",
            "* * * * \n",
            "* * * \n",
            "* * \n",
            "* \n"
          ],
          "name": "stdout"
        }
      ]
    },
    {
      "cell_type": "markdown",
      "metadata": {
        "id": "vUwkk-Q5K7Fz",
        "colab_type": "text"
      },
      "source": [
        "Write a python program to reverse a word after accepting the input from the user\n",
        "Sample output:\n",
        "Input word: AcadGild\n",
        "Output: dilGdacA"
      ]
    },
    {
      "cell_type": "code",
      "metadata": {
        "id": "doyqQKkWLB6I",
        "colab_type": "code",
        "outputId": "fc0901e2-b353-4366-b3ce-4ef25ae87709",
        "colab": {
          "base_uri": "https://localhost:8080/",
          "height": 68
        }
      },
      "source": [
        "word = input(\"Input word: \")\n",
        "\n",
        "for char in range(len(word) - 1, -1, -1):\n",
        "  print(word[char], end=\"\")\n",
        "print(\"\\n\")"
      ],
      "execution_count": 0,
      "outputs": [
        {
          "output_type": "stream",
          "text": [
            "Input word: AcadGild\n",
            "dliGdacA\n",
            "\n"
          ],
          "name": "stdout"
        }
      ]
    },
    {
      "cell_type": "markdown",
      "metadata": {
        "id": "y3CJcZPiQJJz",
        "colab_type": "text"
      },
      "source": [
        "Write a python program to pring the given string in the format specified in the **sample output.**\n",
        "WE, THE PEOPLE OF INDIA, having solemnly resolved to constitute India into a SOVEREIGN, SOCIALIST, SECULAR, DEMOCRATIC REPUBLIC and to secure to all its citizens.\n",
        "\n",
        "**Sample Output:**\n",
        "\n",
        "WE, THE PEOPLE OF INDIA,\n",
        "    having solemnly resolved to constitute India into a SOVEREIGN,!\n",
        "           SOCIALIST, SECULAR, DEMOCRATIC REPUBLIC\n",
        "            and to secure to all its citizens."
      ]
    },
    {
      "cell_type": "code",
      "metadata": {
        "id": "oXg2VuEsLkDo",
        "colab_type": "code",
        "outputId": "3ffd956b-1be0-495f-b973-3df535cceebb",
        "colab": {
          "base_uri": "https://localhost:8080/",
          "height": 85
        }
      },
      "source": [
        "string = \"WE, THE PEOPLE OF INDIA,{}having solemnly resolved to constitute India into a SOVEREIGN,{}SOCIALIST, SECULAR, DEMOCRATIC REPUBLIC{}and to secure to all its citizens{}\"\n",
        "print(string.format('\\n\\t','!\\n\\t\\t','\\n\\t\\t','.'))"
      ],
      "execution_count": 0,
      "outputs": [
        {
          "output_type": "stream",
          "text": [
            "WE, THE PEOPLE OF INDIA,\n",
            "\thaving solemnly resolved to constitute India into a SOVEREIGN,!\n",
            "\t\tSOCIALIST, SECULAR, DEMOCRATIC REPUBLIC\n",
            "\t\tand to secure to all its citizens.\n"
          ],
          "name": "stdout"
        }
      ]
    },
    {
      "cell_type": "code",
      "metadata": {
        "id": "5ik-sF3CSMyC",
        "colab_type": "code",
        "colab": {}
      },
      "source": [
        ""
      ],
      "execution_count": 0,
      "outputs": []
    }
  ]
}